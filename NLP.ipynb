{
 "cells": [
  {
   "cell_type": "markdown",
   "metadata": {
    "colab_type": "text",
    "id": "JSYda6A2IzDw"
   },
   "source": [
    "# Assignment 2: NLP"
   ]
  },
  {
   "cell_type": "markdown",
   "metadata": {
    "colab_type": "text",
    "id": "AhjPl3PhJWOw"
   },
   "source": [
    "## Envirnment Setup"
   ]
  },
  {
   "cell_type": "markdown",
   "metadata": {
    "colab_type": "text",
    "id": "8ah-k_IkJbXR"
   },
   "source": [
    "Importing the dataset (needs to be done only once per notebook)"
   ]
  },
  {
   "cell_type": "code",
   "execution_count": 1,
   "metadata": {
    "colab": {
     "autoexec": {
      "startup": false,
      "wait_interval": 0
     }
    },
    "colab_type": "code",
    "id": "jTX8EbBXKwrg"
   },
   "outputs": [],
   "source": [
    "# needs to be run only once per notebook\n",
    "# !wget \"http://ai.stanford.edu/~amaas/data/sentiment/aclImdb_v1.tar.gz\"\n",
    "# !tar -xzf aclImdb_v1.tar.gz"
   ]
  },
  {
   "cell_type": "code",
   "execution_count": 1,
   "metadata": {
    "colab": {
     "autoexec": {
      "startup": false,
      "wait_interval": 0
     },
     "base_uri": "https://localhost:8080/",
     "height": 34,
     "output_extras": [
      {
       "item_id": 1
      }
     ]
    },
    "colab_type": "code",
    "executionInfo": {
     "elapsed": 2123,
     "status": "ok",
     "timestamp": 1522256273730,
     "user": {
      "displayName": "Abdelrahman Abdelnabi",
      "photoUrl": "https://lh3.googleusercontent.com/a/default-user=s128",
      "userId": "116891406932917050238"
     },
     "user_tz": -120
    },
    "id": "GoP_APVWSCcP",
    "outputId": "bed753c7-90f9-4f52-de4a-30e2fde351cd"
   },
   "outputs": [
    {
     "name": "stdout",
     "output_type": "stream",
     "text": [
      "89526\r\n"
     ]
    }
   ],
   "source": [
    "!cat aclImdb/imdb.vocab | wc -l # number of vocab words"
   ]
  },
  {
   "cell_type": "markdown",
   "metadata": {
    "colab_type": "text",
    "id": "rksClKC7aN8b"
   },
   "source": [
    "## Imports"
   ]
  },
  {
   "cell_type": "code",
   "execution_count": 111,
   "metadata": {
    "colab": {
     "autoexec": {
      "startup": false,
      "wait_interval": 0
     },
     "base_uri": "https://localhost:8080/",
     "height": 187,
     "output_extras": [
      {
       "item_id": 1
      }
     ]
    },
    "colab_type": "code",
    "executionInfo": {
     "elapsed": 716,
     "status": "ok",
     "timestamp": 1522257452058,
     "user": {
      "displayName": "Abdelrahman Abdelnabi",
      "photoUrl": "https://lh3.googleusercontent.com/a/default-user=s128",
      "userId": "116891406932917050238"
     },
     "user_tz": -120
    },
    "id": "Ql-081v5aQbv",
    "outputId": "6391af35-0673-4ffa-962e-8b200299118f"
   },
   "outputs": [
    {
     "name": "stdout",
     "output_type": "stream",
     "text": [
      "The autoreload extension is already loaded. To reload it, use:\n",
      "  %reload_ext autoreload\n"
     ]
    }
   ],
   "source": [
    "import nltk # natural language tool kit: for text pre-processing\n",
    "import os # for listing directories\n",
    "from bs4 import BeautifulSoup as bs # library for removing html tags from text\n",
    "import numpy as np # no comment :P\n",
    "from nltk.corpus import stopwords # a set of common stopwords from nltk\n",
    "from gensim import models\n",
    "import gensim\n",
    "from collections import namedtuple\n",
    "from sklearn.svm import SVC\n",
    "from sklearn.feature_extraction.text import TfidfVectorizer\n",
    "from gensim.models import Word2Vec\n",
    "from nltk.collocations import BigramCollocationFinder\n",
    "from nltk.metrics import BigramAssocMeasures\n",
    "from nltk.corpus import wordnet\n",
    "from sklearn.model_selection import cross_val_score\n",
    "from itertools import product\n",
    "from sklearn.naive_bayes import GaussianNB\n",
    "from sklearn.linear_model import LogisticRegression\n",
    "from sklearn.ensemble import RandomForestClassifier\n",
    "from sklearn.ensemble import AdaBoostClassifier\n",
    "from sklearn.neighbors import KNeighborsClassifier\n",
    "from collections import Counter\n",
    "from itertools import chain\n",
    "import matplotlib.pyplot as plt\n",
    "\n",
    "\n",
    "from pathlib import Path\n",
    "# import helper functions\n",
    "from helpers import *\n",
    "%load_ext autoreload\n",
    "%autoreload 2"
   ]
  },
  {
   "cell_type": "code",
   "execution_count": 112,
   "metadata": {},
   "outputs": [],
   "source": [
    "import warnings\n",
    "warnings.filterwarnings(action='once')"
   ]
  },
  {
   "cell_type": "code",
   "execution_count": 113,
   "metadata": {
    "colab": {
     "autoexec": {
      "startup": false,
      "wait_interval": 0
     },
     "base_uri": "https://localhost:8080/",
     "height": 187,
     "output_extras": [
      {
       "item_id": 1
      }
     ]
    },
    "colab_type": "code",
    "executionInfo": {
     "elapsed": 716,
     "status": "ok",
     "timestamp": 1522257452058,
     "user": {
      "displayName": "Abdelrahman Abdelnabi",
      "photoUrl": "https://lh3.googleusercontent.com/a/default-user=s128",
      "userId": "116891406932917050238"
     },
     "user_tz": -120
    },
    "id": "Ql-081v5aQbv",
    "outputId": "6391af35-0673-4ffa-962e-8b200299118f"
   },
   "outputs": [
    {
     "name": "stdout",
     "output_type": "stream",
     "text": [
      "[nltk_data] Downloading package punkt to\n",
      "[nltk_data]     /home/abdelrahman/nltk_data...\n",
      "[nltk_data]   Package punkt is already up-to-date!\n",
      "[nltk_data] Downloading package wordnet to\n",
      "[nltk_data]     /home/abdelrahman/nltk_data...\n",
      "[nltk_data]   Package wordnet is already up-to-date!\n",
      "[nltk_data] Downloading package stopwords to\n",
      "[nltk_data]     /home/abdelrahman/nltk_data...\n",
      "[nltk_data]   Package stopwords is already up-to-date!\n",
      "[nltk_data] Downloading package averaged_perceptron_tagger to\n",
      "[nltk_data]     /home/abdelrahman/nltk_data...\n",
      "[nltk_data]   Package averaged_perceptron_tagger is already up-to-\n",
      "[nltk_data]       date!\n"
     ]
    },
    {
     "data": {
      "text/plain": [
       "True"
      ]
     },
     "execution_count": 113,
     "metadata": {},
     "output_type": "execute_result"
    }
   ],
   "source": [
    "# download resources for nltk\n",
    "nltk.download('punkt')\n",
    "nltk.download('wordnet')\n",
    "nltk.download('stopwords')\n",
    "nltk.download('averaged_perceptron_tagger')"
   ]
  },
  {
   "cell_type": "code",
   "execution_count": 114,
   "metadata": {
    "colab": {
     "autoexec": {
      "startup": false,
      "wait_interval": 0
     },
     "base_uri": "https://localhost:8080/",
     "height": 187,
     "output_extras": [
      {
       "item_id": 1
      }
     ]
    },
    "colab_type": "code",
    "executionInfo": {
     "elapsed": 716,
     "status": "ok",
     "timestamp": 1522257452058,
     "user": {
      "displayName": "Abdelrahman Abdelnabi",
      "photoUrl": "https://lh3.googleusercontent.com/a/default-user=s128",
      "userId": "116891406932917050238"
     },
     "user_tz": -120
    },
    "id": "Ql-081v5aQbv",
    "outputId": "6391af35-0673-4ffa-962e-8b200299118f"
   },
   "outputs": [
    {
     "name": "stderr",
     "output_type": "stream",
     "text": [
      "/usr/local/lib/python3.5/dist-packages/nltk/corpus/reader/wordlist.py:28: ResourceWarning: unclosed file <_io.BufferedReader name='/home/abdelrahman/nltk_data/corpora/stopwords/english'>\n",
      "  return concat([self.open(f).read() for f in fileids])\n"
     ]
    }
   ],
   "source": [
    "stop_words = set(stopwords.words('english'))\n",
    "stop_words.update(['.', ',', '\"', \"'\", '?', '!', ':', ';', '(', ')', '[', ']', '{', '}', '``', \"''\", '...'])"
   ]
  },
  {
   "cell_type": "markdown",
   "metadata": {
    "colab_type": "text",
    "id": "MZMnhAatZ9yz"
   },
   "source": [
    "## Reading the dataset and preprocessing the text"
   ]
  },
  {
   "cell_type": "code",
   "execution_count": 115,
   "metadata": {
    "colab": {
     "autoexec": {
      "startup": false,
      "wait_interval": 0
     }
    },
    "colab_type": "code",
    "id": "mV_QRyINaACa"
   },
   "outputs": [],
   "source": [
    "train_pos = []\n",
    "train_neg = []\n",
    "wnl = nltk.WordNetLemmatizer()"
   ]
  },
  {
   "cell_type": "code",
   "execution_count": 117,
   "metadata": {},
   "outputs": [
    {
     "name": "stdout",
     "output_type": "stream",
     "text": [
      "read 12500 positive training reviews\n",
      "read 12500 negative training reviews\n",
      "25000\n"
     ]
    }
   ],
   "source": [
    "train_pos = read_data('aclImdb/train/pos')\n",
    "print(\"read {} positive training reviews\".format(len(train_pos)))\n",
    "\n",
    "train_neg = read_data('aclImdb/train/neg')\n",
    "print(\"read {} negative training reviews\".format(len(train_neg)))\n",
    "\n",
    "train_data = train_pos + train_neg\n",
    "print(len(train_data))"
   ]
  },
  {
   "cell_type": "code",
   "execution_count": 118,
   "metadata": {},
   "outputs": [
    {
     "name": "stdout",
     "output_type": "stream",
     "text": [
      "read 12500 positive test reviews\n",
      "read 12500 negative test reviews\n",
      "25000\n"
     ]
    }
   ],
   "source": [
    "test_pos = read_data('aclImdb/test/pos')\n",
    "print(\"read {} positive test reviews\".format(len(test_pos)))\n",
    "\n",
    "test_neg = read_data('aclImdb/test/neg')\n",
    "print(\"read {} negative test reviews\".format(len(test_neg)))\n",
    "\n",
    "test_data = test_pos + test_neg\n",
    "print(len(test_data))"
   ]
  },
  {
   "cell_type": "code",
   "execution_count": 119,
   "metadata": {},
   "outputs": [],
   "source": [
    "train_labels = np.array([1]*12500 + [0]*12500)\n",
    "test_labels = np.array([1]*12500 + [0]*12500)"
   ]
  },
  {
   "cell_type": "markdown",
   "metadata": {},
   "source": [
    "## Removing unbiased words"
   ]
  },
  {
   "cell_type": "code",
   "execution_count": 120,
   "metadata": {},
   "outputs": [
    {
     "name": "stdout",
     "output_type": "stream",
     "text": [
      "Found 10494 unbiased words\n"
     ]
    }
   ],
   "source": [
    "def countInFile(filename):\n",
    "    with open(filename) as f:\n",
    "        return Counter(chain.from_iterable(map(str.split, f)))\n",
    "\n",
    "pos_data_count = countInFile('aclImdb/train/pos/all.txt')\n",
    "neg_data_count = countInFile('aclImdb/train/neg/all.txt')\n",
    "\n",
    "margin = 1.8 # biased words margin\n",
    "unbiased_words = set()\n",
    "for word in pos_data_count.keys():\n",
    "    pos_count = pos_data_count[word]\n",
    "    if word in neg_data_count:\n",
    "        neg_count = neg_data_count[word]\n",
    "        if pos_count > neg_count and pos_count < margin*neg_count:\n",
    "            unbiased_words.add(word)\n",
    "        elif neg_count > pos_count and neg_count < margin*pos_count:\n",
    "            unbiased_words.add(word)\n",
    "print(\"Found {} unbiased words\".format(len(unbiased_words)))"
   ]
  },
  {
   "cell_type": "markdown",
   "metadata": {},
   "source": [
    "## Set up hyper parameters and classifiers for cross fold validation"
   ]
  },
  {
   "cell_type": "markdown",
   "metadata": {},
   "source": [
    "Here we define the parameters to be tuned for each classifier and create a classifier object for each combination of parameters."
   ]
  },
  {
   "cell_type": "code",
   "execution_count": 121,
   "metadata": {},
   "outputs": [],
   "source": [
    "logistic_params = {'C': [0.1, 0.5, 1, 5, 10]}\n",
    "random_forest_params = {'n_estimators': [10,50,100,300]}\n",
    "ada_params = {'n_estimators': [10, 50, 100], 'base_estimator':[LogisticRegression(C=5)]}\n",
    "knn_params = {'n_neighbors': [5, 11, 17]}\n",
    "\n",
    "lr_clfs = get_clfs_for_combinations(LogisticRegression, logistic_params)\n",
    "rf_clfs = get_clfs_for_combinations(RandomForestClassifier, random_forest_params)\n",
    "ada_clfs = get_clfs_for_combinations(AdaBoostClassifier, ada_params)\n",
    "knn_clfs = get_clfs_for_combinations(KNeighborsClassifier, knn_params)"
   ]
  },
  {
   "cell_type": "markdown",
   "metadata": {
    "colab": {
     "autoexec": {
      "startup": false,
      "wait_interval": 0
     }
    },
    "colab_type": "code",
    "id": "Sp5oHDOUcojR"
   },
   "source": [
    "## TF-IDF"
   ]
  },
  {
   "cell_type": "code",
   "execution_count": 122,
   "metadata": {},
   "outputs": [],
   "source": [
    "# put positive and negative training data in one file\n",
    "!cat aclImdb/train/pos/all.txt aclImdb/train/neg/all.txt > all_train.txt\n",
    "!cat aclImdb/test/pos/all.txt aclImdb/test/neg/all.txt > all_test.txt"
   ]
  },
  {
   "cell_type": "code",
   "execution_count": 128,
   "metadata": {},
   "outputs": [],
   "source": [
    "# pass the Vectorizer the paramter stop_words=unbiased_words\n",
    "# to remove unbiased words\n",
    "tfidf = TfidfVectorizer()\n",
    "all_train_file = open('all_train.txt', 'r')\n",
    "train_doc_matrix = tfidf.fit_transform([review for review in all_train_file.readlines()])\n",
    "all_train_file.close()"
   ]
  },
  {
   "cell_type": "code",
   "execution_count": 127,
   "metadata": {},
   "outputs": [
    {
     "name": "stdout",
     "output_type": "stream",
     "text": [
      "67109\n"
     ]
    }
   ],
   "source": [
    "print(len(tfidf.vocabulary_))"
   ]
  },
  {
   "cell_type": "code",
   "execution_count": 132,
   "metadata": {},
   "outputs": [],
   "source": [
    "all_test_file = open('all_test.txt', 'r')\n",
    "test_doc_matrix = tfidf.transform([review for review in all_test_file.readlines()])\n",
    "all_test_file.close()"
   ]
  },
  {
   "cell_type": "code",
   "execution_count": 133,
   "metadata": {},
   "outputs": [
    {
     "name": "stdout",
     "output_type": "stream",
     "text": [
      "(25000, 67109)\n"
     ]
    }
   ],
   "source": [
    "print(test_doc_matrix.shape)"
   ]
  },
  {
   "cell_type": "markdown",
   "metadata": {},
   "source": [
    "### cross validation testing"
   ]
  },
  {
   "cell_type": "code",
   "execution_count": 134,
   "metadata": {},
   "outputs": [
    {
     "data": {
      "image/png": "[encoded data removed]",
      "text/plain": [
       "<Figure size 432x288 with 1 Axes>"
      ]
     },
     "metadata": {},
     "output_type": "display_data"
    }
   ],
   "source": [
    "scores_dict = cross_validate(train_doc_matrix, train_labels, lr_clfs)\n",
    "param = 'C'\n",
    "accuracies_dict = clf_to_accuracies_dict(scores_dict, param)\n",
    "fig = plot_accuracies(accuracies_dict, xlabel=param, title='TF-IDF using logistic regression classifier')\n",
    "fig.savefig('plots/tf-idf-lr')"
   ]
  },
  {
   "cell_type": "code",
   "execution_count": 135,
   "metadata": {},
   "outputs": [],
   "source": [
    "scores_dict = cross_validate(train_doc_matrix, train_labels, knn_clfs)"
   ]
  },
  {
   "cell_type": "code",
   "execution_count": 136,
   "metadata": {},
   "outputs": [
    {
     "data": {
      "image/png": "[encoded data removed]",
      "text/plain": [
       "<Figure size 432x288 with 1 Axes>"
      ]
     },
     "metadata": {},
     "output_type": "display_data"
    }
   ],
   "source": [
    "param = 'n_neighbors'\n",
    "accuracies_dict = clf_to_accuracies_dict(scores_dict, param)\n",
    "fig = plot_accuracies(accuracies_dict, xlabel=param, title='TF-IDF using KNN classifier')\n",
    "fig.savefig('plots/tf-idf-knn')"
   ]
  },
  {
   "cell_type": "markdown",
   "metadata": {},
   "source": [
    "get IDF values for each word in the vocabulary to use it in weighting the word2vec vectors later on."
   ]
  },
  {
   "cell_type": "code",
   "execution_count": 137,
   "metadata": {},
   "outputs": [],
   "source": [
    "word_idfs = dict(zip(tfidf.get_feature_names(), tfidf._tfidf.idf_))"
   ]
  },
  {
   "cell_type": "markdown",
   "metadata": {},
   "source": [
    "## Word2Vec trained on IMDB"
   ]
  },
  {
   "cell_type": "code",
   "execution_count": 138,
   "metadata": {},
   "outputs": [],
   "source": [
    "word_dimensions = 100\n",
    "model=Word2Vec(train_data, size = word_dimensions)"
   ]
  },
  {
   "cell_type": "code",
   "execution_count": 139,
   "metadata": {},
   "outputs": [],
   "source": [
    "train_doc_vecs = get_doc_vecs_for_data(train_data, model.wv, word_dimensions, word_weights=word_idfs, ignored_words=unbiased_words)\n",
    "test_doc_vecs = get_doc_vecs_for_data(test_data, model.wv, word_dimensions, word_weights=word_idfs, ignored_words=unbiased_words)"
   ]
  },
  {
   "cell_type": "markdown",
   "metadata": {},
   "source": [
    "### cross validation testing using IDF weighted embeddings"
   ]
  },
  {
   "cell_type": "code",
   "execution_count": 153,
   "metadata": {},
   "outputs": [],
   "source": [
    "scores_dict = cross_validate(train_doc_vecs, train_labels, lr_clfs)"
   ]
  },
  {
   "cell_type": "code",
   "execution_count": 155,
   "metadata": {},
   "outputs": [
    {
     "data": {
      "image/png": "[encoded data removed]",
      "text/plain": [
       "<Figure size 432x288 with 1 Axes>"
      ]
     },
     "metadata": {},
     "output_type": "display_data"
    }
   ],
   "source": [
    "param = 'C'\n",
    "accuracies_dict = clf_to_accuracies_dict(scores_dict, param)\n",
    "fig = plot_accuracies(accuracies_dict, xlabel=param, title='Word2Vec using logistic regression classifier')\n",
    "fig.savefig('plots/word2vec-lr')"
   ]
  },
  {
   "cell_type": "markdown",
   "metadata": {},
   "source": [
    "## Pretrained GloVe Embeddings"
   ]
  },
  {
   "cell_type": "code",
   "execution_count": 151,
   "metadata": {},
   "outputs": [],
   "source": [
    "glove_dict_300 = load_glove_dict(300)"
   ]
  },
  {
   "cell_type": "code",
   "execution_count": 143,
   "metadata": {},
   "outputs": [],
   "source": [
    "glove_train_doc_vecs = get_doc_vecs_for_data(train_data, glove_dict_300, 300, ignored_words=unbiased_words)\n",
    "glove_test_doc_vecs = get_doc_vecs_for_data(test_data, glove_dict_300, 300, ignored_words=unbiased_words)"
   ]
  },
  {
   "cell_type": "code",
   "execution_count": 152,
   "metadata": {},
   "outputs": [],
   "source": [
    "%reset_selective -f glove_dict_300"
   ]
  },
  {
   "cell_type": "markdown",
   "metadata": {},
   "source": [
    "### cross validation testing"
   ]
  },
  {
   "cell_type": "code",
   "execution_count": 145,
   "metadata": {},
   "outputs": [],
   "source": [
    "scores_dict = cross_validate(glove_train_doc_vecs, train_labels, lr_clfs)"
   ]
  },
  {
   "cell_type": "code",
   "execution_count": 146,
   "metadata": {},
   "outputs": [
    {
     "data": {
      "image/png": "[encoded data removed]",
      "text/plain": [
       "<Figure size 432x288 with 1 Axes>"
      ]
     },
     "metadata": {},
     "output_type": "display_data"
    }
   ],
   "source": [
    "param = 'C'\n",
    "accuracies_dict = clf_to_accuracies_dict(scores_dict, param)\n",
    "fig = plot_accuracies(accuracies_dict, xlabel=param, title='Pretrained Glove Embeddings using logistic regression classifier')\n",
    "fig.savefig('plots/glove-lr')"
   ]
  },
  {
   "cell_type": "code",
   "execution_count": 147,
   "metadata": {},
   "outputs": [],
   "source": [
    "scores_dict = cross_validate(glove_train_doc_vecs, train_labels, ada_clfs)"
   ]
  },
  {
   "cell_type": "code",
   "execution_count": 148,
   "metadata": {},
   "outputs": [
    {
     "data": {
      "image/png": "[encoded data removed]",
      "text/plain": [
       "<Figure size 432x288 with 1 Axes>"
      ]
     },
     "metadata": {},
     "output_type": "display_data"
    }
   ],
   "source": [
    "param = 'n_estimators'\n",
    "accuracies_dict = clf_to_accuracies_dict(scores_dict, param)\n",
    "fig = plot_accuracies(accuracies_dict, xlabel=param,\n",
    "    title='Pretrained Glove Embeddings using adaboost classifier')\n",
    "fig.savefig('plots/glove-ada')"
   ]
  },
  {
   "cell_type": "code",
   "execution_count": 149,
   "metadata": {},
   "outputs": [
    {
     "name": "stdout",
     "output_type": "stream",
     "text": [
      "clf with params: [('n_neighbors', 5)], score: 0.82172\n",
      "clf with params: [('n_neighbors', 11)], score: 0.8322\n",
      "clf with params: [('n_neighbors', 17)], score: 0.8344000000000001\n"
     ]
    }
   ],
   "source": [
    "# WARNING: takes long time to execute ~ 10-15 minutes\n",
    "scores_dict = cross_validate(glove_train_doc_vecs, train_labels, knn_clfs)\n",
    "print_clf_scores(scores_dict, knn_params.keys())"
   ]
  },
  {
   "cell_type": "code",
   "execution_count": 150,
   "metadata": {},
   "outputs": [
    {
     "data": {
      "image/png": "[encoded data removed]",
      "text/plain": [
       "<Figure size 432x288 with 1 Axes>"
      ]
     },
     "metadata": {},
     "output_type": "display_data"
    }
   ],
   "source": [
    "param = 'n_neighbors'\n",
    "accuracies_dict = clf_to_accuracies_dict(scores_dict, param)\n",
    "fig = plot_accuracies(accuracies_dict, xlabel=param, title='Pretrained Glove Embeddings using KNN classifier')\n",
    "fig.savefig('plots/glove-knn')"
   ]
  },
  {
   "cell_type": "markdown",
   "metadata": {},
   "source": [
    "# Testing on the Real Test Data"
   ]
  },
  {
   "cell_type": "markdown",
   "metadata": {},
   "source": [
    "## Classifiers"
   ]
  },
  {
   "cell_type": "code",
   "execution_count": 121,
   "metadata": {},
   "outputs": [],
   "source": [
    "testing_clfs = [LogisticRegression(),\n",
    "                RandomForestClassifier(),\n",
    "                AdaBoostClassifier(),\n",
    "                KNeighborsClassifier()]\n",
    "clfs_names = ['Logistic', 'Random Forest', 'AdaBoost', 'KNN']"
   ]
  },
  {
   "cell_type": "markdown",
   "metadata": {},
   "source": [
    "## Testing GloVe"
   ]
  },
  {
   "cell_type": "code",
   "execution_count": 123,
   "metadata": {},
   "outputs": [],
   "source": [
    "def test(clfs, train_data, test_data, train_labels, test_labels):\n",
    "    for i,clf in enumerate(clfs):\n",
    "        clf.fit(train_data, train_labels)\n",
    "        score = clf.score(test_data, test_labels)\n",
    "        print(\"Classifier {} scored: {}\".format(clfs_names[i], score))"
   ]
  },
  {
   "cell_type": "markdown",
   "metadata": {},
   "source": [
    "## Testing Word2Vec trained on the Dataset"
   ]
  },
  {
   "cell_type": "code",
   "execution_count": 124,
   "metadata": {},
   "outputs": [
    {
     "name": "stdout",
     "output_type": "stream",
     "text": [
      "Classifier Logistic scored: 0.82864\n",
      "Classifier Random Forest scored: 0.78564\n",
      "Classifier AdaBoost scored: 0.8036\n",
      "Classifier KNN scored: 0.78436\n"
     ]
    }
   ],
   "source": [
    "test(testing_clfs, train_doc_vecs, test_doc_vecs, train_labels, test_labels)"
   ]
  },
  {
   "cell_type": "markdown",
   "metadata": {},
   "source": [
    "## Testing TF-IDF on Cleaned Data"
   ]
  },
  {
   "cell_type": "code",
   "execution_count": 127,
   "metadata": {},
   "outputs": [
    {
     "name": "stdout",
     "output_type": "stream",
     "text": [
      "Classifier Logistic scored: 0.87792\n",
      "Classifier Random Forest scored: 0.74772\n",
      "Classifier AdaBoost scored: 0.80208\n",
      "Classifier KNN scored: 0.65028\n"
     ]
    }
   ],
   "source": [
    "test(testing_clfs, train_doc_matrix, test_doc_matrix, train_labels, test_labels)"
   ]
  },
  {
   "cell_type": "markdown",
   "metadata": {},
   "source": [
    "# Preprocessing effect"
   ]
  },
  {
   "cell_type": "markdown",
   "metadata": {},
   "source": [
    "We will run TF-IDF on the raw text. Since IDF already gives a low weight to the more frequent tokens/words, punctuations and stopwords will have a very low weight. We should expect TF-IDF on the raw data to yield a result similar to the cleaned data."
   ]
  },
  {
   "cell_type": "code",
   "execution_count": 156,
   "metadata": {},
   "outputs": [],
   "source": [
    "class FileIterator:\n",
    "    def __init__(self, dirname):\n",
    "        self.dirname = dirname\n",
    "    def __iter__(self):\n",
    "        pathlist = Path(self.dirname).glob('*_*.txt')\n",
    "        for path in pathlist:\n",
    "            path_in_str = str(path)\n",
    "            if os.path.isfile(path_in_str):\n",
    "                f = open(path_in_str)\n",
    "                text = f.read()\n",
    "                f.close()\n",
    "                yield text"
   ]
  },
  {
   "cell_type": "code",
   "execution_count": 157,
   "metadata": {},
   "outputs": [],
   "source": [
    "train_pos_iter = FileIterator('aclImdb/train/pos')\n",
    "train_neg_iter = FileIterator('aclImdb/train/neg')\n",
    "train_iter = chain(train_pos_iter, train_neg_iter)\n",
    "\n",
    "test_pos_iter = FileIterator('aclImdb/test/pos')\n",
    "test_neg_iter = FileIterator('aclImdb/test/neg')\n",
    "test_iter = chain(test_pos_iter, test_neg_iter)"
   ]
  },
  {
   "cell_type": "code",
   "execution_count": 158,
   "metadata": {},
   "outputs": [],
   "source": [
    "tfidf = TfidfVectorizer()\n",
    "train_doc_matrix = tfidf.fit_transform(train_iter)\n",
    "test_doc_matrix = tfidf.transform(test_iter)"
   ]
  },
  {
   "cell_type": "code",
   "execution_count": 160,
   "metadata": {},
   "outputs": [
    {
     "data": {
      "image/png": "[encoded data removed]",
      "text/plain": [
       "<Figure size 432x288 with 1 Axes>"
      ]
     },
     "metadata": {},
     "output_type": "display_data"
    }
   ],
   "source": [
    "scores_dict = cross_validate(train_doc_matrix, train_labels, lr_clfs)\n",
    "aram = 'C'\n",
    "accuracies_dict = clf_to_accuracies_dict(scores_dict, param)\n",
    "fig = plot_accuracies(accuracies_dict, xlabel=param, title='TF-iDF on raw data using logistic regression classifier')\n",
    "fig.savefig('plots/tf-idf-raw-lr')"
   ]
  },
  {
   "cell_type": "code",
   "execution_count": 131,
   "metadata": {},
   "outputs": [
    {
     "name": "stdout",
     "output_type": "stream",
     "text": [
      "Classifier Logistic scored: 0.88316\n",
      "Classifier Random Forest scored: 0.73404\n",
      "Classifier AdaBoost scored: 0.8034\n",
      "Classifier KNN scored: 0.66152\n"
     ]
    }
   ],
   "source": [
    "test(testing_clfs, train_doc_matrix, test_doc_matrix, train_labels, test_labels)"
   ]
  }
 ],
 "metadata": {
  "colab": {
   "default_view": {},
   "name": "NLP.ipynb",
   "provenance": [],
   "version": "0.3.2",
   "views": {}
  },
  "kernelspec": {
   "display_name": "Python 3",
   "language": "python",
   "name": "python3"
  },
  "language_info": {
   "codemirror_mode": {
    "name": "ipython",
    "version": 3
   },
   "file_extension": ".py",
   "mimetype": "text/x-python",
   "name": "python",
   "nbconvert_exporter": "python",
   "pygments_lexer": "ipython3",
   "version": "3.5.2"
  }
 },
 "nbformat": 4,
 "nbformat_minor": 1
}
