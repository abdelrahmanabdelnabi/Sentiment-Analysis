{
 "cells": [
  {
   "cell_type": "markdown",
   "metadata": {
    "colab_type": "text",
    "id": "JSYda6A2IzDw"
   },
   "source": [
    "# Assignment 2: NLP"
   ]
  },
  {
   "cell_type": "markdown",
   "metadata": {
    "colab_type": "text",
    "id": "AhjPl3PhJWOw"
   },
   "source": [
    "## Envirnment Setup"
   ]
  },
  {
   "cell_type": "markdown",
   "metadata": {
    "colab_type": "text",
    "id": "8ah-k_IkJbXR"
   },
   "source": [
    "Importing the dataset (needs to be done only once per notebook)"
   ]
  },
  {
   "cell_type": "code",
   "execution_count": 1,
   "metadata": {
    "colab": {
     "autoexec": {
      "startup": false,
      "wait_interval": 0
     }
    },
    "colab_type": "code",
    "id": "jTX8EbBXKwrg"
   },
   "outputs": [],
   "source": [
    "# needs to be run only once per notebook\n",
    "# !wget \"http://ai.stanford.edu/~amaas/data/sentiment/aclImdb_v1.tar.gz\"\n",
    "# !tar -xzf aclImdb_v1.tar.gz"
   ]
  },
  {
   "cell_type": "code",
   "execution_count": 80,
   "metadata": {
    "colab": {
     "autoexec": {
      "startup": false,
      "wait_interval": 0
     },
     "base_uri": "https://localhost:8080/",
     "height": 34,
     "output_extras": [
      {
       "item_id": 1
      }
     ]
    },
    "colab_type": "code",
    "executionInfo": {
     "elapsed": 2123,
     "status": "ok",
     "timestamp": 1522256273730,
     "user": {
      "displayName": "Abdelrahman Abdelnabi",
      "photoUrl": "https://lh3.googleusercontent.com/a/default-user=s128",
      "userId": "116891406932917050238"
     },
     "user_tz": -120
    },
    "id": "GoP_APVWSCcP",
    "outputId": "bed753c7-90f9-4f52-de4a-30e2fde351cd"
   },
   "outputs": [
    {
     "name": "stdout",
     "output_type": "stream",
     "text": [
      "89526\r\n"
     ]
    }
   ],
   "source": [
    "!cat aclImdb/imdb.vocab | wc -l # number of vocab words"
   ]
  },
  {
   "cell_type": "markdown",
   "metadata": {
    "colab_type": "text",
    "id": "rksClKC7aN8b"
   },
   "source": [
    "## Imports"
   ]
  },
  {
   "cell_type": "code",
   "execution_count": 97,
   "metadata": {
    "colab": {
     "autoexec": {
      "startup": false,
      "wait_interval": 0
     },
     "base_uri": "https://localhost:8080/",
     "height": 187,
     "output_extras": [
      {
       "item_id": 1
      }
     ]
    },
    "colab_type": "code",
    "executionInfo": {
     "elapsed": 716,
     "status": "ok",
     "timestamp": 1522257452058,
     "user": {
      "displayName": "Abdelrahman Abdelnabi",
      "photoUrl": "https://lh3.googleusercontent.com/a/default-user=s128",
      "userId": "116891406932917050238"
     },
     "user_tz": -120
    },
    "id": "Ql-081v5aQbv",
    "outputId": "6391af35-0673-4ffa-962e-8b200299118f"
   },
   "outputs": [
    {
     "name": "stdout",
     "output_type": "stream",
     "text": [
      "Once deleted, variables cannot be recovered. Proceed (y/[n])? n\n",
      "Nothing done.\n"
     ]
    }
   ],
   "source": [
    "%reset\n",
    "import nltk # natural language tool kit: for text pre-processing\n",
    "import os # for listing directories\n",
    "from bs4 import BeautifulSoup as bs # library for removing html tags from text\n",
    "import numpy as np # no comment :P\n",
    "from nltk.corpus import stopwords # a set of common stopwords from nltk\n",
    "from gensim import models\n",
    "import gensim\n",
    "from collections import namedtuple\n",
    "from sklearn.linear_model import LogisticRegression"
   ]
  },
  {
   "cell_type": "code",
   "execution_count": 82,
   "metadata": {
    "colab": {
     "autoexec": {
      "startup": false,
      "wait_interval": 0
     },
     "base_uri": "https://localhost:8080/",
     "height": 187,
     "output_extras": [
      {
       "item_id": 1
      }
     ]
    },
    "colab_type": "code",
    "executionInfo": {
     "elapsed": 716,
     "status": "ok",
     "timestamp": 1522257452058,
     "user": {
      "displayName": "Abdelrahman Abdelnabi",
      "photoUrl": "https://lh3.googleusercontent.com/a/default-user=s128",
      "userId": "116891406932917050238"
     },
     "user_tz": -120
    },
    "id": "Ql-081v5aQbv",
    "outputId": "6391af35-0673-4ffa-962e-8b200299118f"
   },
   "outputs": [
    {
     "name": "stdout",
     "output_type": "stream",
     "text": [
      "[nltk_data] Downloading package punkt to\n",
      "[nltk_data]     /home/abdelrahman/nltk_data...\n",
      "[nltk_data]   Package punkt is already up-to-date!\n",
      "[nltk_data] Downloading package wordnet to\n",
      "[nltk_data]     /home/abdelrahman/nltk_data...\n",
      "[nltk_data]   Package wordnet is already up-to-date!\n",
      "[nltk_data] Downloading package stopwords to\n",
      "[nltk_data]     /home/abdelrahman/nltk_data...\n",
      "[nltk_data]   Package stopwords is already up-to-date!\n",
      "[nltk_data] Downloading package averaged_perceptron_tagger to\n",
      "[nltk_data]     /home/abdelrahman/nltk_data...\n",
      "[nltk_data]   Package averaged_perceptron_tagger is already up-to-\n",
      "[nltk_data]       date!\n"
     ]
    },
    {
     "data": {
      "text/plain": [
       "True"
      ]
     },
     "execution_count": 82,
     "metadata": {},
     "output_type": "execute_result"
    }
   ],
   "source": [
    "# download resources for nltk\n",
    "nltk.download('punkt')\n",
    "nltk.download('wordnet')\n",
    "nltk.download('stopwords')\n",
    "nltk.download('averaged_perceptron_tagger')"
   ]
  },
  {
   "cell_type": "code",
   "execution_count": 83,
   "metadata": {
    "colab": {
     "autoexec": {
      "startup": false,
      "wait_interval": 0
     },
     "base_uri": "https://localhost:8080/",
     "height": 187,
     "output_extras": [
      {
       "item_id": 1
      }
     ]
    },
    "colab_type": "code",
    "executionInfo": {
     "elapsed": 716,
     "status": "ok",
     "timestamp": 1522257452058,
     "user": {
      "displayName": "Abdelrahman Abdelnabi",
      "photoUrl": "https://lh3.googleusercontent.com/a/default-user=s128",
      "userId": "116891406932917050238"
     },
     "user_tz": -120
    },
    "id": "Ql-081v5aQbv",
    "outputId": "6391af35-0673-4ffa-962e-8b200299118f"
   },
   "outputs": [],
   "source": [
    "stop_words = set(stopwords.words('english'))\n",
    "stop_words.update(['.', ',', '\"', \"'\", '?', '!', ':', ';', '(', ')', '[', ']', '{', '}', '``', \"''\", '...'])"
   ]
  },
  {
   "cell_type": "markdown",
   "metadata": {
    "colab_type": "text",
    "id": "MZMnhAatZ9yz"
   },
   "source": [
    "## Reading the dataset and preprocessing the text"
   ]
  },
  {
   "cell_type": "code",
   "execution_count": 84,
   "metadata": {
    "colab": {
     "autoexec": {
      "startup": false,
      "wait_interval": 0
     }
    },
    "colab_type": "code",
    "id": "b3r_BWJ9lgJI"
   },
   "outputs": [],
   "source": [
    "from nltk.corpus import wordnet\n",
    "\n",
    "def get_wordnet_pos(treebank_tag):\n",
    "    if treebank_tag.startswith('J'):\n",
    "        return wordnet.ADJ\n",
    "    elif treebank_tag.startswith('V'):\n",
    "        return wordnet.VERB\n",
    "    elif treebank_tag.startswith('N'):\n",
    "        return wordnet.NOUN\n",
    "    elif treebank_tag.startswith('R'):\n",
    "        return wordnet.ADV\n",
    "    else:\n",
    "        return wordnet.NOUN\n",
    "\n",
    "def penn_to_wn(tag):\n",
    "    return get_wordnet_pos(tag)"
   ]
  },
  {
   "cell_type": "code",
   "execution_count": 85,
   "metadata": {},
   "outputs": [],
   "source": [
    "from nltk.collocations import BigramCollocationFinder\n",
    "from nltk.metrics import BigramAssocMeasures\n",
    "\n",
    "def get_bigrams(train_data):\n",
    "    for docs in train_data: \n",
    "        bigram_finder = BigramCollocationFinder.from_words(docs)\n",
    "        bigrams = bigram_finder.nbest(BigramAssocMeasures.chi_sq, 500)\n",
    "        tokens = []\n",
    "        for bigram_tuple in bigrams:\n",
    "            x = \"%s %s\" % bigram_tuple\n",
    "            tokens.append(x)\n",
    "    print(tokens)"
   ]
  },
  {
   "cell_type": "code",
   "execution_count": 86,
   "metadata": {
    "colab": {
     "autoexec": {
      "startup": false,
      "wait_interval": 0
     }
    },
    "colab_type": "code",
    "id": "mV_QRyINaACa"
   },
   "outputs": [],
   "source": [
    "def read_data(data_set_path):\n",
    "    data = []\n",
    "    \n",
    "    if any(\"all.txt\" in s for s in os.listdir(data_set_path)):\n",
    "        # read the reviews line by line\n",
    "        all_data_file_path = os.path.join(data_set_path, 'all.txt')\n",
    "        all_data_file = open(all_data_file_path, 'r')\n",
    "        for line in all_data_file.readlines():\n",
    "            vec = line.split(\" \")\n",
    "            vec = [item for item in vec if item != '\\n']\n",
    "            data.append(vec)\n",
    "        return data\n",
    "        \n",
    "    \n",
    "    for file_name in os.listdir(data_set_path):\n",
    "        file_path = os.path.join(data_set_path, file_name)\n",
    "        file = open(file_path, 'r')\n",
    "\n",
    "        # read raw text\n",
    "        text = file.read()\n",
    "\n",
    "        # remove html tags\n",
    "        text = bs(text, \"html.parser\").get_text()\n",
    "\n",
    "        # tokenize the text\n",
    "        tokens = nltk.word_tokenize(text)\n",
    "\n",
    "        # get the part of speech tags for the tokens\n",
    "        # This gives each token a tag from [NOUN, VERB, ADJ, ADV] which are\n",
    "        # used by the lemmatizer to correctly lemmatize a word\n",
    "        tagged_text = nltk.pos_tag(tokens)\n",
    "\n",
    "        # lowercase, remove stop words, and lemmatize\n",
    "        tokens = [wnl.lemmatize(tok.lower(), penn_to_wn(tag)) for (tok, tag) in tagged_text if tok.lower() not in stop_words and not tok.isdigit()]\n",
    "        data.append(tokens)\n",
    "    \n",
    "    all_data_file_path = os.path.join(data_set_path, 'all.txt')\n",
    "    all_data_file = open(all_data_file_path, 'w+')\n",
    "    all_data_file.writelines([\"%s\\n\" % \" \".join(str(x) for x in item) for item in data])\n",
    "\n",
    "    return data"
   ]
  },
  {
   "cell_type": "code",
   "execution_count": 87,
   "metadata": {
    "colab": {
     "autoexec": {
      "startup": false,
      "wait_interval": 0
     }
    },
    "colab_type": "code",
    "id": "mV_QRyINaACa"
   },
   "outputs": [],
   "source": [
    "train_pos = []\n",
    "train_neg = []\n",
    "\n",
    "wnl = nltk.WordNetLemmatizer()"
   ]
  },
  {
   "cell_type": "code",
   "execution_count": 88,
   "metadata": {},
   "outputs": [
    {
     "name": "stdout",
     "output_type": "stream",
     "text": [
      "read 12500 positive training reviews\n",
      "read 12500 negative training reviews\n",
      "25000\n"
     ]
    }
   ],
   "source": [
    "train_pos = read_data('aclImdb/train/pos')\n",
    "print(\"read {} positive training reviews\".format(len(train_pos)))\n",
    "\n",
    "train_neg = read_data('aclImdb/train/neg')\n",
    "print(\"read {} negative training reviews\".format(len(train_neg)))\n",
    "\n",
    "train_data = train_pos + train_neg\n",
    "print(len(train_data))"
   ]
  },
  {
   "cell_type": "code",
   "execution_count": 89,
   "metadata": {},
   "outputs": [
    {
     "name": "stdout",
     "output_type": "stream",
     "text": [
      "read 12500 positive test reviews\n",
      "read 12500 negative test reviews\n",
      "25000\n"
     ]
    }
   ],
   "source": [
    "test_pos = read_data('aclImdb/test/pos')\n",
    "print(\"read {} positive test reviews\".format(len(test_pos)))\n",
    "\n",
    "test_neg = read_data('aclImdb/test/neg')\n",
    "print(\"read {} negative test reviews\".format(len(test_neg)))\n",
    "\n",
    "test_data = test_pos + test_neg\n",
    "print(len(test_data))"
   ]
  },
  {
   "cell_type": "markdown",
   "metadata": {
    "colab": {
     "autoexec": {
      "startup": false,
      "wait_interval": 0
     }
    },
    "colab_type": "code",
    "id": "Sp5oHDOUcojR"
   },
   "source": [
    "## TF-IDF"
   ]
  },
  {
   "cell_type": "code",
   "execution_count": 90,
   "metadata": {},
   "outputs": [],
   "source": [
    "from sklearn.feature_extraction.text import TfidfVectorizer"
   ]
  },
  {
   "cell_type": "code",
   "execution_count": 91,
   "metadata": {},
   "outputs": [],
   "source": [
    "# put positive and negative training data in one file\n",
    "!cat aclImdb/train/pos/all.txt aclImdb/train/neg/all.txt > all_train.txt\n",
    "!cat aclImdb/test/pos/all.txt aclImdb/test/neg/all.txt > all_test.txt"
   ]
  },
  {
   "cell_type": "code",
   "execution_count": 92,
   "metadata": {},
   "outputs": [],
   "source": [
    "tfidf = TfidfVectorizer()\n",
    "all_train_file = open('all_train.txt', 'r')\n",
    "train_doc_matrix = tfidf.fit_transform([review for review in all_train_file.readlines()])"
   ]
  },
  {
   "cell_type": "code",
   "execution_count": 93,
   "metadata": {},
   "outputs": [
    {
     "name": "stdout",
     "output_type": "stream",
     "text": [
      "67109\n"
     ]
    }
   ],
   "source": [
    "print(len(tfidf.vocabulary_))"
   ]
  },
  {
   "cell_type": "code",
   "execution_count": 94,
   "metadata": {},
   "outputs": [],
   "source": [
    "all_test_file = open('all_test.txt', 'r')\n",
    "test_doc_matrix = tfidf.transform([review for review in all_test_file.readlines()])"
   ]
  },
  {
   "cell_type": "code",
   "execution_count": 95,
   "metadata": {},
   "outputs": [
    {
     "name": "stdout",
     "output_type": "stream",
     "text": [
      "(25000, 67109)\n"
     ]
    }
   ],
   "source": [
    "print(test_doc_matrix.shape)"
   ]
  },
  {
   "cell_type": "code",
   "execution_count": 98,
   "metadata": {},
   "outputs": [
    {
     "name": "stdout",
     "output_type": "stream",
     "text": [
      "0.87792\n"
     ]
    }
   ],
   "source": [
    "clf3 = LogisticRegression()\n",
    "clf3.fit(train_doc_matrix, [1]*12500 + [0]*12500)\n",
    "print(clf3.score(test_doc_matrix, [1]*12500 + [0]*12500))"
   ]
  },
  {
   "cell_type": "code",
   "execution_count": 99,
   "metadata": {},
   "outputs": [],
   "source": [
    "word_idfs = dict(zip(tfidf.get_feature_names(), tfidf._tfidf.idf_))"
   ]
  },
  {
   "cell_type": "markdown",
   "metadata": {},
   "source": [
    "## Word2Vec"
   ]
  },
  {
   "cell_type": "code",
   "execution_count": 100,
   "metadata": {},
   "outputs": [],
   "source": [
    "from gensim.models import Word2Vec"
   ]
  },
  {
   "cell_type": "code",
   "execution_count": 101,
   "metadata": {},
   "outputs": [],
   "source": [
    "word_dimensions = 100\n",
    "\n",
    "model=Word2Vec(train_data, size = word_dimensions)"
   ]
  },
  {
   "cell_type": "code",
   "execution_count": 102,
   "metadata": {},
   "outputs": [
    {
     "data": {
      "text/plain": [
       "array([-0.8168287 ,  0.73005927, -0.7006438 , -0.2594654 , -0.7625088 ,\n",
       "       -1.6779494 , -0.83240485,  0.36481312, -1.245421  , -0.24876046,\n",
       "       -0.70107067, -0.42921913, -0.9211775 , -1.3528693 ,  0.3654857 ,\n",
       "        0.25650272,  0.64159644,  1.4829522 , -0.3695635 ,  1.3956082 ,\n",
       "       -0.76010615,  0.07011928,  0.6077176 ,  0.3991185 , -0.06508129,\n",
       "       -0.61021435, -0.34178463, -0.50792736,  0.15817441, -0.04236006,\n",
       "        0.47983953,  0.21792863, -1.3419082 , -0.01015196, -0.86063254,\n",
       "        1.1498944 ,  0.9942062 , -0.44470575,  0.21403773,  1.5123991 ,\n",
       "        0.6447842 ,  1.1431347 , -0.48512664, -1.5760506 ,  0.7318202 ,\n",
       "        0.2948373 , -0.5261131 , -0.27325976,  0.3320763 ,  0.3381813 ,\n",
       "       -0.6799872 ,  0.57244056,  0.07642704, -1.8351017 , -0.24186401,\n",
       "        1.0925725 ,  0.628451  , -0.12998264,  0.94145787, -0.05876609,\n",
       "        0.36804083, -1.0539775 , -0.0313226 ,  0.1833193 ,  0.41587323,\n",
       "       -0.25128555, -0.23727725, -0.81691056, -0.6709959 , -0.24671805,\n",
       "        0.09114078, -1.3601203 , -1.1385456 ,  1.5321784 ,  0.0841838 ,\n",
       "        1.4111172 , -0.21457532,  0.36780968,  0.9730859 , -0.36181176,\n",
       "        0.7112933 ,  1.8286743 ,  0.42892417, -0.44355962, -1.1570201 ,\n",
       "       -0.12269923, -0.31742087, -1.5939165 , -0.4783629 , -0.60604227,\n",
       "        0.09497395, -0.89031273,  1.032258  , -0.15320398, -0.8004829 ,\n",
       "        0.48068145, -1.0868918 ,  0.07095863,  0.95717716,  0.10358109],\n",
       "      dtype=float32)"
      ]
     },
     "execution_count": 102,
     "metadata": {},
     "output_type": "execute_result"
    }
   ],
   "source": [
    "model.wv['cartoon']"
   ]
  },
  {
   "cell_type": "code",
   "execution_count": 104,
   "metadata": {},
   "outputs": [],
   "source": [
    "def get_doc_vecs_for_data(data, word_embeddings, word_weights = None, dimensions = word_dimensions):\n",
    "    doc_vecs = np.empty([len(data), dimensions])\n",
    "\n",
    "    for idx,review in enumerate(data):\n",
    "        doc_vec = np.zeros([1,dimensions])\n",
    "        for word in review:\n",
    "            if word_weights != None:\n",
    "                if word in word_embeddings and word in word_weights:\n",
    "                    doc_vec += word_weights[word]*word_embeddings[word]\n",
    "            else:\n",
    "                if word in word_embeddings:\n",
    "                    doc_vec += word_embeddings[word]\n",
    "        doc_vecs[idx] = doc_vec/len(review)\n",
    "    \n",
    "    return doc_vecs"
   ]
  },
  {
   "cell_type": "code",
   "execution_count": 105,
   "metadata": {},
   "outputs": [],
   "source": [
    "train_doc_vecs = get_doc_vecs_for_data(train_data, model.wv, word_weights=word_idfs, dimensions=word_dimensions)\n",
    "test_doc_vecs = get_doc_vecs_for_data(test_data, model.wv, word_weights=word_idfs, dimensions=word_dimensions)"
   ]
  },
  {
   "cell_type": "markdown",
   "metadata": {},
   "source": [
    "## Classifying using IDF weighted embeddings"
   ]
  },
  {
   "cell_type": "code",
   "execution_count": 106,
   "metadata": {},
   "outputs": [
    {
     "data": {
      "text/plain": [
       "0.80628"
      ]
     },
     "execution_count": 106,
     "metadata": {},
     "output_type": "execute_result"
    }
   ],
   "source": [
    "clf = LogisticRegression()\n",
    "\n",
    "clf.fit(train_doc_vecs, [1]*12500 + [0]*12500)\n",
    "clf.score(test_doc_vecs, [1]*12500 + [0]*12500)"
   ]
  },
  {
   "cell_type": "markdown",
   "metadata": {},
   "source": [
    "## Using pretrained GloVe Embeddings"
   ]
  },
  {
   "cell_type": "code",
   "execution_count": 107,
   "metadata": {},
   "outputs": [],
   "source": [
    "def load_glove_dict(size):\n",
    "    assert size == 50 or size == 100 or size == 200 or size == 300\n",
    "    \n",
    "    glove_file_path = \"glove.6B/glove.6B.\" + str(size) + \"d.txt\"\n",
    "    \n",
    "    glove_file = open(glove_file_path, 'r')\n",
    "    \n",
    "    glove_dict = {}\n",
    "    for line in glove_file.readlines():\n",
    "        tokens = line.split(\" \")\n",
    "        word = tokens[0]\n",
    "        vec = [float(num) for num in tokens[1::]]\n",
    "        glove_dict[word] = vec\n",
    "    return glove_dict"
   ]
  },
  {
   "cell_type": "code",
   "execution_count": 113,
   "metadata": {},
   "outputs": [],
   "source": [
    "glove_dict_50 = load_glove_dict(50)\n",
    "glove_dict_300 = load_glove_dict(300)"
   ]
  },
  {
   "cell_type": "code",
   "execution_count": 114,
   "metadata": {},
   "outputs": [],
   "source": [
    "glove_train_doc_vecs = get_doc_vecs_for_data(train_data, glove_dict_300, dimensions=300)\n",
    "glove_test_doc_vecs = get_doc_vecs_for_data(test_data, glove_dict_300, dimensions=300)"
   ]
  },
  {
   "cell_type": "code",
   "execution_count": 115,
   "metadata": {},
   "outputs": [],
   "source": [
    "%reset_selective -f glove_dict_50\n",
    "%reset_selective -f glove_dict_300"
   ]
  },
  {
   "cell_type": "code",
   "execution_count": 116,
   "metadata": {},
   "outputs": [
    {
     "data": {
      "text/plain": [
       "0.82624"
      ]
     },
     "execution_count": 116,
     "metadata": {},
     "output_type": "execute_result"
    }
   ],
   "source": [
    "clf2 = LogisticRegression()\n",
    "\n",
    "clf2.fit(glove_train_doc_vecs, [1]*12500 + [0]*12500)\n",
    "clf2.score(glove_test_doc_vecs, [1]*12500 + [0]*12500)"
   ]
  }
 ],
 "metadata": {
  "colab": {
   "default_view": {},
   "name": "NLP.ipynb",
   "provenance": [],
   "version": "0.3.2",
   "views": {}
  },
  "kernelspec": {
   "display_name": "Python 3",
   "language": "python",
   "name": "python3"
  },
  "language_info": {
   "codemirror_mode": {
    "name": "ipython",
    "version": 3
   },
   "file_extension": ".py",
   "mimetype": "text/x-python",
   "name": "python",
   "nbconvert_exporter": "python",
   "pygments_lexer": "ipython3",
   "version": "3.5.2"
  }
 },
 "nbformat": 4,
 "nbformat_minor": 1
}
