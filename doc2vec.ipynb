{
 "cells": [
  {
   "cell_type": "code",
   "execution_count": null,
   "metadata": {
    "colab": {
     "autoexec": {
      "startup": false,
      "wait_interval": 0
     }
    },
    "colab_type": "code",
    "collapsed": true,
    "id": "PtsbmnJkeqh8"
   },
   "outputs": [],
   "source": []
  },
  {
   "cell_type": "markdown",
   "metadata": {
    "colab_type": "text",
    "id": "JSYda6A2IzDw"
   },
   "source": [
    "# Assignment 2: NLP"
   ]
  },
  {
   "cell_type": "markdown",
   "metadata": {
    "colab_type": "text",
    "id": "AhjPl3PhJWOw"
   },
   "source": [
    "## Envirnment Setup"
   ]
  },
  {
   "cell_type": "markdown",
   "metadata": {
    "colab_type": "text",
    "id": "8ah-k_IkJbXR"
   },
   "source": [
    "Importing the dataset (needs to be done only once per notebook)"
   ]
  },
  {
   "cell_type": "code",
   "execution_count": 1,
   "metadata": {
    "colab": {
     "autoexec": {
      "startup": false,
      "wait_interval": 0
     }
    },
    "colab_type": "code",
    "collapsed": true,
    "id": "jTX8EbBXKwrg"
   },
   "outputs": [],
   "source": [
    "# needs to be run only once per notebook\n",
    "# !wget \"http://ai.stanford.edu/~amaas/data/sentiment/aclImdb_v1.tar.gz\"\n",
    "# !tar -xzf aclImdb_v1.tar.gz"
   ]
  },
  {
   "cell_type": "code",
   "execution_count": 2,
   "metadata": {
    "colab": {
     "autoexec": {
      "startup": false,
      "wait_interval": 0
     },
     "base_uri": "https://localhost:8080/",
     "height": 34,
     "output_extras": [
      {
       "item_id": 1
      }
     ]
    },
    "colab_type": "code",
    "executionInfo": {
     "elapsed": 2123,
     "status": "ok",
     "timestamp": 1522256273730,
     "user": {
      "displayName": "Abdelrahman Abdelnabi",
      "photoUrl": "https://lh3.googleusercontent.com/a/default-user=s128",
      "userId": "116891406932917050238"
     },
     "user_tz": -120
    },
    "id": "GoP_APVWSCcP",
    "outputId": "bed753c7-90f9-4f52-de4a-30e2fde351cd"
   },
   "outputs": [
    {
     "name": "stdout",
     "output_type": "stream",
     "text": [
      "89526\r\n"
     ]
    }
   ],
   "source": [
    "!cat aclImdb/imdb.vocab | wc -l # number of vocab words"
   ]
  },
  {
   "cell_type": "code",
   "execution_count": null,
   "metadata": {
    "colab": {
     "autoexec": {
      "startup": false,
      "wait_interval": 0
     }
    },
    "colab_type": "code",
    "collapsed": true,
    "id": "xujKGM_cSXiP"
   },
   "outputs": [],
   "source": []
  },
  {
   "cell_type": "markdown",
   "metadata": {
    "colab_type": "text",
    "id": "rksClKC7aN8b"
   },
   "source": [
    "## Imports"
   ]
  },
  {
   "cell_type": "code",
   "execution_count": 3,
   "metadata": {
    "colab": {
     "autoexec": {
      "startup": false,
      "wait_interval": 0
     },
     "base_uri": "https://localhost:8080/",
     "height": 187,
     "output_extras": [
      {
       "item_id": 1
      }
     ]
    },
    "colab_type": "code",
    "executionInfo": {
     "elapsed": 716,
     "status": "ok",
     "timestamp": 1522257452058,
     "user": {
      "displayName": "Abdelrahman Abdelnabi",
      "photoUrl": "https://lh3.googleusercontent.com/a/default-user=s128",
      "userId": "116891406932917050238"
     },
     "user_tz": -120
    },
    "id": "Ql-081v5aQbv",
    "outputId": "6391af35-0673-4ffa-962e-8b200299118f"
   },
   "outputs": [],
   "source": [
    "import nltk # natural language tool kit: for text pre-processing\n",
    "import os # for listing directories\n",
    "from bs4 import BeautifulSoup as bs # library for removing html tags from text\n",
    "import numpy as np # no comment :P\n",
    "from nltk.corpus import stopwords # a set of common stopwords from nltk\n",
    "from gensim import models\n",
    "import gensim\n",
    "from collections import namedtuple\n",
    "from helpers import *\n",
    "%load_ext autoreload\n",
    "%autoreload 2"
   ]
  },
  {
   "cell_type": "code",
   "execution_count": 4,
   "metadata": {
    "colab": {
     "autoexec": {
      "startup": false,
      "wait_interval": 0
     },
     "base_uri": "https://localhost:8080/",
     "height": 187,
     "output_extras": [
      {
       "item_id": 1
      }
     ]
    },
    "colab_type": "code",
    "executionInfo": {
     "elapsed": 716,
     "status": "ok",
     "timestamp": 1522257452058,
     "user": {
      "displayName": "Abdelrahman Abdelnabi",
      "photoUrl": "https://lh3.googleusercontent.com/a/default-user=s128",
      "userId": "116891406932917050238"
     },
     "user_tz": -120
    },
    "id": "Ql-081v5aQbv",
    "outputId": "6391af35-0673-4ffa-962e-8b200299118f"
   },
   "outputs": [
    {
     "name": "stdout",
     "output_type": "stream",
     "text": [
      "[nltk_data] Downloading package punkt to /home/amr/nltk_data...\n",
      "[nltk_data]   Package punkt is already up-to-date!\n",
      "[nltk_data] Downloading package wordnet to /home/amr/nltk_data...\n",
      "[nltk_data]   Package wordnet is already up-to-date!\n",
      "[nltk_data] Downloading package stopwords to /home/amr/nltk_data...\n",
      "[nltk_data]   Package stopwords is already up-to-date!\n",
      "[nltk_data] Downloading package averaged_perceptron_tagger to\n",
      "[nltk_data]     /home/amr/nltk_data...\n",
      "[nltk_data]   Package averaged_perceptron_tagger is already up-to-\n",
      "[nltk_data]       date!\n"
     ]
    },
    {
     "data": {
      "text/plain": [
       "True"
      ]
     },
     "execution_count": 4,
     "metadata": {},
     "output_type": "execute_result"
    }
   ],
   "source": [
    "# download resources for nltk\n",
    "nltk.download('punkt')\n",
    "nltk.download('wordnet')\n",
    "nltk.download('stopwords')\n",
    "nltk.download('averaged_perceptron_tagger')"
   ]
  },
  {
   "cell_type": "code",
   "execution_count": 5,
   "metadata": {
    "colab": {
     "autoexec": {
      "startup": false,
      "wait_interval": 0
     },
     "base_uri": "https://localhost:8080/",
     "height": 187,
     "output_extras": [
      {
       "item_id": 1
      }
     ]
    },
    "colab_type": "code",
    "collapsed": true,
    "executionInfo": {
     "elapsed": 716,
     "status": "ok",
     "timestamp": 1522257452058,
     "user": {
      "displayName": "Abdelrahman Abdelnabi",
      "photoUrl": "https://lh3.googleusercontent.com/a/default-user=s128",
      "userId": "116891406932917050238"
     },
     "user_tz": -120
    },
    "id": "Ql-081v5aQbv",
    "outputId": "6391af35-0673-4ffa-962e-8b200299118f"
   },
   "outputs": [],
   "source": [
    "stop_words = set(stopwords.words('english'))\n",
    "stop_words.update(['.', ',', '\"', \"'\", '?', '!', ':', ';', '(', ')', '[', ']', '{', '}', '``', \"''\", '...','the','for',\"'s\",\"'m\"])"
   ]
  },
  {
   "cell_type": "markdown",
   "metadata": {
    "colab_type": "text",
    "id": "MZMnhAatZ9yz"
   },
   "source": [
    "## Reading the dataset and preprocessing the text"
   ]
  },
  {
   "cell_type": "code",
   "execution_count": 6,
   "metadata": {
    "colab": {
     "autoexec": {
      "startup": false,
      "wait_interval": 0
     }
    },
    "colab_type": "code",
    "collapsed": true,
    "id": "mV_QRyINaACa"
   },
   "outputs": [],
   "source": [
    "train_pos = []\n",
    "train_neg = []\n",
    "\n",
    "wnl = nltk.WordNetLemmatizer()"
   ]
  },
  {
   "cell_type": "code",
   "execution_count": 7,
   "metadata": {},
   "outputs": [
    {
     "name": "stdout",
     "output_type": "stream",
     "text": [
      "read 12500 positive training reviews\n",
      "read 12500 negative training reviews\n",
      "read 50000 unsupervised training reviews\n",
      "75000\n"
     ]
    }
   ],
   "source": [
    "train_pos = read_data('aclImdb/train/pos')\n",
    "print(\"read {} positive training reviews\".format(len(train_pos)))\n",
    "\n",
    "train_neg = read_data('aclImdb/train/neg')\n",
    "print(\"read {} negative training reviews\".format(len(train_neg)))\n",
    "\n",
    "train_unsup = read_data('aclImdb/train/unsup')\n",
    "print(\"read {} unsupervised training reviews\".format(len(train_unsup)))\n",
    "\n",
    "train_data = train_pos + train_neg + train_unsup\n",
    "print(len(train_data))"
   ]
  },
  {
   "cell_type": "code",
   "execution_count": 8,
   "metadata": {},
   "outputs": [
    {
     "name": "stdout",
     "output_type": "stream",
     "text": [
      "read 12500 positive test reviews\n",
      "read 12500 negative test reviews\n",
      "25000\n"
     ]
    }
   ],
   "source": [
    "test_pos = read_data('aclImdb/test/pos')\n",
    "print(\"read {} positive test reviews\".format(len(test_pos)))\n",
    "\n",
    "test_neg = read_data('aclImdb/test/neg')\n",
    "print(\"read {} negative test reviews\".format(len(test_neg)))\n",
    "\n",
    "test_data = test_pos + test_neg\n",
    "print(len(test_data))"
   ]
  },
  {
   "cell_type": "code",
   "execution_count": 9,
   "metadata": {
    "colab": {
     "autoexec": {
      "startup": false,
      "wait_interval": 0
     },
     "base_uri": "https://localhost:8080/",
     "height": 54,
     "output_extras": [
      {
       "item_id": 1
      }
     ]
    },
    "colab_type": "code",
    "executionInfo": {
     "elapsed": 910,
     "status": "ok",
     "timestamp": 1522258206926,
     "user": {
      "displayName": "Abdelrahman Abdelnabi",
      "photoUrl": "https://lh3.googleusercontent.com/a/default-user=s128",
      "userId": "116891406932917050238"
     },
     "user_tz": -120
    },
    "id": "paCs_NYtbnFC",
    "outputId": "418c29ce-4582-4eda-ecf2-bc412dd8e261"
   },
   "outputs": [
    {
     "name": "stdout",
     "output_type": "stream",
     "text": [
      "75000\n"
     ]
    }
   ],
   "source": [
    "analyzedDocument = namedtuple('AnalyzedDocument', 'words tags')\n",
    "\n",
    "reviews_pos = [analyzedDocument(review, [i]) for i,review in zip(range(0, 12500), train_pos)]\n",
    "reviews_neg = [analyzedDocument(review, [i]) for i,review in zip(range(12500, 25000), train_neg)]\n",
    "reviews_unsup = [analyzedDocument(review, [i]) for i,review in zip(range(25000, 75000), train_unsup)]\n",
    "\n",
    "reviews = reviews_pos + reviews_neg + reviews_unsup\n",
    "print(len(reviews))"
   ]
  },
  {
   "cell_type": "code",
   "execution_count": 10,
   "metadata": {
    "colab": {
     "autoexec": {
      "startup": false,
      "wait_interval": 0
     }
    },
    "colab_type": "code",
    "collapsed": true,
    "id": "Sp5oHDOUcojR"
   },
   "outputs": [],
   "source": [
    "pos_model = gensim.models.doc2vec.Doc2Vec(vector_size=300, min_count=200, workers=4, negative=20)\n",
    "neg_model = gensim.models.doc2vec.Doc2Vec(vector_size=300, min_count=200, workers=4, negative=20)\n",
    "pos_model.build_vocab(reviews)\n",
    "neg_model.build_vocab(reviews)"
   ]
  },
  {
   "cell_type": "code",
   "execution_count": 12,
   "metadata": {
    "scrolled": true
   },
   "outputs": [],
   "source": [
    "for epoch in range(10):\n",
    "    pos_model.train(reviews, total_examples=pos_model.corpus_count, epochs=pos_model.epochs)\n",
    "    pos_model.alpha -= 0.002  # decrease the learning rate\n",
    "    pos_model.min_alpha = pos_model.alpha  # fix the learning rate, no decay\n",
    "    neg_model.train(reviews, total_examples=neg_model.corpus_count, epochs=neg_model.epochs)\n",
    "    neg_model.alpha -= 0.002  # decrease the learning rate\n",
    "    neg_model.min_alpha = neg_model.alpha  # fix the learning rate, no decay"
   ]
  },
  {
   "cell_type": "markdown",
   "metadata": {},
   "source": [
    "## Classification with logistic regression"
   ]
  },
  {
   "cell_type": "code",
   "execution_count": null,
   "metadata": {
    "collapsed": true
   },
   "outputs": [],
   "source": [
    "#model.docvecs.vectors_docs"
   ]
  },
  {
   "cell_type": "code",
   "execution_count": 15,
   "metadata": {},
   "outputs": [
    {
     "name": "stdout",
     "output_type": "stream",
     "text": [
      "(25000, 600)\n"
     ]
    }
   ],
   "source": [
    "test_reviews = np.empty([25000, 600])\n",
    "\n",
    "for idx, review in enumerate(test_data):\n",
    "    inferred_vector = np.concatenate((pos_model.infer_vector(review), neg_model.infer_vector(review)), axis=0)\n",
    "    test_reviews[idx] = inferred_vector\n",
    "\n",
    "print(test_reviews.shape)"
   ]
  },
  {
   "cell_type": "code",
   "execution_count": 16,
   "metadata": {
    "collapsed": true
   },
   "outputs": [],
   "source": [
    "from sklearn.linear_model import LogisticRegression"
   ]
  },
  {
   "cell_type": "code",
   "execution_count": 17,
   "metadata": {
    "collapsed": true
   },
   "outputs": [],
   "source": [
    "from sklearn import preprocessing"
   ]
  },
  {
   "cell_type": "code",
   "execution_count": 31,
   "metadata": {},
   "outputs": [
    {
     "data": {
      "text/plain": [
       "LogisticRegression(C=1.0, class_weight=None, dual=False, fit_intercept=True,\n",
       "          intercept_scaling=1, max_iter=100, multi_class='ovr', n_jobs=1,\n",
       "          penalty='l2', random_state=None, solver='liblinear', tol=0.0001,\n",
       "          verbose=0, warm_start=False)"
      ]
     },
     "execution_count": 31,
     "metadata": {},
     "output_type": "execute_result"
    }
   ],
   "source": [
    "clf = LogisticRegression()\n",
    "\n",
    "train_pos_vec = []\n",
    "train_neg_vec = []\n",
    "train_unsup_vec = []\n",
    "\n",
    "for x in range(0, 12500):\n",
    "    train_pos_vec.append(np.concatenate((pos_model.docvecs[x], neg_model.docvecs[x]), axis=0))\n",
    "\n",
    "for x in range(12500, 25000):\n",
    "    train_neg_vec.append(np.concatenate((pos_model.docvecs[x], neg_model.docvecs[x]), axis=0))\n",
    "        \n",
    "clf.fit(train_pos_vec+train_neg_vec, [1]*12500 + [0]*12500)"
   ]
  },
  {
   "cell_type": "code",
   "execution_count": 32,
   "metadata": {},
   "outputs": [
    {
     "data": {
      "text/plain": [
       "0.63051999999999997"
      ]
     },
     "execution_count": 32,
     "metadata": {},
     "output_type": "execute_result"
    }
   ],
   "source": [
    "clf.score(preprocessing.scale(test_reviews), [1]*12500 + [0]*12500)"
   ]
  },
  {
   "cell_type": "code",
   "execution_count": 33,
   "metadata": {
    "collapsed": true
   },
   "outputs": [],
   "source": [
    "from sklearn.svm import SVC"
   ]
  },
  {
   "cell_type": "code",
   "execution_count": null,
   "metadata": {},
   "outputs": [],
   "source": [
    "rbf_clf = SVC(kernel='rbf', C = 1)\n",
    "rbf_clf.fit(np.concatenate((train_pos_vec, train_neg_vec), axis=0), [1]*12500 + [0]*12500)\n",
    "rbf_clf.score(test_reviews, [1]*12500 + [0]*12500)"
   ]
  },
  {
   "cell_type": "code",
   "execution_count": null,
   "metadata": {
    "collapsed": true
   },
   "outputs": [],
   "source": []
  }
 ],
 "metadata": {
  "colab": {
   "default_view": {},
   "name": "NLP.ipynb",
   "provenance": [],
   "version": "0.3.2",
   "views": {}
  },
  "kernelspec": {
   "display_name": "Python 3",
   "language": "python",
   "name": "python3"
  },
  "language_info": {
   "codemirror_mode": {
    "name": "ipython",
    "version": 3
   },
   "file_extension": ".py",
   "mimetype": "text/x-python",
   "name": "python",
   "nbconvert_exporter": "python",
   "pygments_lexer": "ipython3",
   "version": "3.6.3"
  }
 },
 "nbformat": 4,
 "nbformat_minor": 1
}
