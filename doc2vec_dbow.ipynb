{
 "cells": [
  {
   "cell_type": "code",
   "execution_count": 1,
   "metadata": {},
   "outputs": [
    {
     "data": {
      "text/html": [
       "<style>.container { width:100% !important; }</style>"
      ],
      "text/plain": [
       "<IPython.core.display.HTML object>"
      ]
     },
     "metadata": {},
     "output_type": "display_data"
    }
   ],
   "source": [
    "from IPython.core.display import display, HTML\n",
    "display(HTML(\"<style>.container { width:100% !important; }</style>\"))"
   ]
  },
  {
   "cell_type": "code",
   "execution_count": 12,
   "metadata": {},
   "outputs": [],
   "source": [
    "import locale\n",
    "import glob\n",
    "import os.path\n",
    "import requests\n",
    "import tarfile\n",
    "import sys\n",
    "import codecs\n",
    "import smart_open\n",
    "\n",
    "import time\n",
    "import smart_open"
   ]
  },
  {
   "cell_type": "code",
   "execution_count": 13,
   "metadata": {},
   "outputs": [
    {
     "name": "stdout",
     "output_type": "stream",
     "text": [
      "Total running time:  0.0007619999998951243\n"
     ]
    }
   ],
   "source": [
    "dirname = 'aclImdb'\n",
    "filename = 'aclImdb_v1.tar.gz'\n",
    "locale.setlocale(locale.LC_ALL, 'C')\n",
    "\n",
    "if sys.version > '3':\n",
    "    control_chars = [chr(0x85)]\n",
    "else:\n",
    "    control_chars = [unichr(0x85)]\n",
    "\n",
    "# Convert text to lower-case and strip punctuation/symbols from words\n",
    "def normalize_text(text):\n",
    "    norm_text = text.lower()\n",
    "    # Replace breaks with spaces\n",
    "    norm_text = norm_text.replace('<br />', ' ')\n",
    "    # Pad punctuation with spaces on both sides\n",
    "    for char in ['.', '\"', ',', '(', ')', '!', '?', ';', ':']:\n",
    "        norm_text = norm_text.replace(char, ' ' + char + ' ')\n",
    "    return norm_text\n",
    "\n",
    "start = time.clock()\n",
    "\n",
    "if not os.path.isfile('aclImdb/alldata-id.txt'):\n",
    "    if not os.path.isdir(dirname):\n",
    "        if not os.path.isfile(filename):\n",
    "            # Download IMDB archive\n",
    "            print(\"Downloading IMDB archive...\")\n",
    "            url = u'http://ai.stanford.edu/~amaas/data/sentiment/' + filename\n",
    "            r = requests.get(url)\n",
    "            with smart_open.smart_open(filename, 'wb') as f:\n",
    "                f.write(r.content)\n",
    "        tar = tarfile.open(filename, mode='r')\n",
    "        tar.extractall()\n",
    "        tar.close()\n",
    "\n",
    "    # Concatenate and normalize test/train data\n",
    "    print(\"Cleaning up dataset...\")\n",
    "    folders = ['train/pos', 'train/neg', 'test/pos', 'test/neg', 'train/unsup']\n",
    "    alldata = u''\n",
    "    for fol in folders:\n",
    "        temp = u''\n",
    "        output = fol.replace('/', '-') + '.txt'\n",
    "        # Is there a better pattern to use?\n",
    "        txt_files = glob.glob(os.path.join(dirname, fol, '*_*.txt'))\n",
    "        \n",
    "        print(\"folder {} has {} files\".format(fol, len(txt_files)))\n",
    "        \n",
    "        for txt in txt_files:\n",
    "            with smart_open.smart_open(txt, \"rb\") as t:\n",
    "                t_clean = t.read().decode(\"utf-8\")\n",
    "                for c in control_chars:\n",
    "                    t_clean = t_clean.replace(c, ' ')\n",
    "                temp += t_clean\n",
    "            temp += \"\\n\"\n",
    "        temp_norm = normalize_text(temp)\n",
    "        with smart_open.smart_open(os.path.join(dirname, output), \"wb\") as n:\n",
    "            n.write(temp_norm.encode(\"utf-8\"))\n",
    "        alldata += temp_norm\n",
    "\n",
    "    with smart_open.smart_open(os.path.join(dirname, 'alldata-id.txt'), 'wb') as f:\n",
    "        for idx, line in enumerate(alldata.splitlines()):\n",
    "            num_line = u\"_*{0} {1}\\n\".format(idx, line)\n",
    "            f.write(num_line.encode(\"utf-8\"))\n",
    "\n",
    "end = time.clock()\n",
    "print (\"Total running time: \", end-start)"
   ]
  },
  {
   "cell_type": "code",
   "execution_count": 14,
   "metadata": {},
   "outputs": [],
   "source": [
    "#for checking\n",
    "import os.path\n",
    "assert os.path.isfile(\"aclImdb/alldata-id.txt\"), \"alldata-id.txt unavailable\""
   ]
  },
  {
   "cell_type": "code",
   "execution_count": 15,
   "metadata": {},
   "outputs": [
    {
     "name": "stdout",
     "output_type": "stream",
     "text": [
      "100000\n",
      "75000 docs: 25000 train-sentiment, 25000 test-sentiment, 50000 unsup-sentiment\n"
     ]
    }
   ],
   "source": [
    "import gensim\n",
    "from gensim.models.doc2vec import TaggedDocument\n",
    "from collections import namedtuple\n",
    "from smart_open import smart_open\n",
    "\n",
    "SentimentDocument = namedtuple('SentimentDocument', 'words tags split sentiment')\n",
    "\n",
    "alldocs = []  # Will hold all docs in original order\n",
    "with smart_open('aclImdb/alldata-id.txt', 'rb') as alldata:\n",
    "    alldata = alldata.readlines()\n",
    "    print(len(alldata))\n",
    "    for line_no, line in enumerate(alldata):\n",
    "        tokens = gensim.utils.to_unicode(line).split()\n",
    "        words = tokens[1:]\n",
    "        tags = [line_no] # 'tags = [tokens[0]]' would also work at extra memory cost\n",
    "        split = ['train', 'test', 'extra', 'extra'][line_no//25000]  # 25k train, 25k test, 25k extra\n",
    "        sentiment = [1.0, 0.0, 1.0, 0.0, None, None, None, None][line_no//12500] # [12.5K pos, 12.5K neg]*2 then unknown\n",
    "        alldocs.append(SentimentDocument(words, tags, split, sentiment))\n",
    "\n",
    "train_docs = [doc for doc in alldocs if doc.split == 'train']\n",
    "test_docs = [doc for doc in alldocs if doc.split == 'test']\n",
    "unsup_docs = [doc for doc in alldocs if doc.split == 'extra']\n",
    "doc_list = train_docs[:] + unsup_docs[:]  # For reshuffling per pass\n",
    "\n",
    "print('%d docs: %d train-sentiment, %d test-sentiment, %d unsup-sentiment' % (len(doc_list), len(train_docs), len(test_docs), len(unsup_docs)))"
   ]
  },
  {
   "cell_type": "code",
   "execution_count": 16,
   "metadata": {
    "scrolled": true
   },
   "outputs": [
    {
     "name": "stderr",
     "output_type": "stream",
     "text": [
      "/usr/local/lib/python3.5/dist-packages/gensim/models/doc2vec.py:366: UserWarning: The parameter `size` is deprecated, will be removed in 4.0.0, use `vector_size` instead.\n",
      "  warnings.warn(\"The parameter `size` is deprecated, will be removed in 4.0.0, use `vector_size` instead.\")\n"
     ]
    },
    {
     "name": "stdout",
     "output_type": "stream",
     "text": [
      "Doc2Vec(dm/c,d100,n5,w5,mc2,s0.001,t4)\n",
      "Doc2Vec(dbow,d100,n5,mc2,s0.001,t4)\n",
      "Doc2Vec(dm/m,d100,n5,w10,mc2,s0.001,t4)\n",
      "99687\n"
     ]
    }
   ],
   "source": [
    "from gensim.models import Doc2Vec\n",
    "import gensim.models.doc2vec\n",
    "from collections import OrderedDict\n",
    "import multiprocessing\n",
    "\n",
    "cores = multiprocessing.cpu_count()\n",
    "assert gensim.models.doc2vec.FAST_VERSION > -1, \"This will be painfully slow otherwise\"\n",
    "\n",
    "simple_models = [\n",
    "    # PV-DM w/ concatenation - window=5 (both sides) approximates paper's 10-word total window size\n",
    "    Doc2Vec(dm=1, dm_concat=1, size=100, window=5, negative=5, hs=0, min_count=2, workers=cores),\n",
    "    # PV-DBOW \n",
    "    Doc2Vec(dm=0, size=100, negative=5, hs=0, min_count=2, workers=cores),\n",
    "    # PV-DM w/ average\n",
    "    Doc2Vec(dm=1, dm_mean=1, size=100, window=10, negative=5, hs=0, min_count=2, workers=cores),\n",
    "]\n",
    "\n",
    "# Speed up setup by sharing results of the 1st model's vocabulary scan\n",
    "simple_models[0].build_vocab(train_docs + unsup_docs)  # PV-DM w/ concat requires one special NULL word so it serves as template\n",
    "print(simple_models[0])\n",
    "for model in simple_models[1:]:\n",
    "    model.reset_from(simple_models[0])\n",
    "    print(model)\n",
    "print(len(simple_models[0].wv.vocab))\n",
    "\n",
    "# only test the DBOW model as the other two yield the worst results\n",
    "models_by_name = OrderedDict()\n",
    "models_by_name[str(simple_models[1])] = simple_models[1]\n",
    "# models_by_name = OrderedDict((str(model), model) for model in simple_models)"
   ]
  },
  {
   "cell_type": "code",
   "execution_count": 17,
   "metadata": {},
   "outputs": [],
   "source": [
    "import statsmodels\n",
    "import testfixtures"
   ]
  },
  {
   "cell_type": "code",
   "execution_count": 18,
   "metadata": {},
   "outputs": [],
   "source": [
    "from gensim.test.test_doc2vec import ConcatenatedDoc2Vec\n",
    "models_by_name['dbow+dmm'] = ConcatenatedDoc2Vec([simple_models[1], simple_models[2]])\n",
    "models_by_name['dbow+dmc'] = ConcatenatedDoc2Vec([simple_models[1], simple_models[0]])"
   ]
  },
  {
   "cell_type": "code",
   "execution_count": 19,
   "metadata": {},
   "outputs": [],
   "source": [
    "import numpy as np\n",
    "import statsmodels.api as sm\n",
    "from random import sample\n",
    "\n",
    "# For timing\n",
    "from contextlib import contextmanager\n",
    "from timeit import default_timer\n",
    "import time \n",
    "\n",
    "@contextmanager\n",
    "def elapsed_timer():\n",
    "    start = default_timer()\n",
    "    elapser = lambda: default_timer() - start\n",
    "    yield lambda: elapser()\n",
    "    end = default_timer()\n",
    "    elapser = lambda: end-start\n",
    "    \n",
    "def logistic_predictor_from_data(train_targets, train_regressors):\n",
    "    logit = sm.Logit(train_targets, train_regressors)\n",
    "    predictor = logit.fit(disp=0)\n",
    "    # print(predictor.summary())\n",
    "    return predictor\n",
    "\n",
    "def error_rate_for_model(test_model, train_set, test_set, infer=False, infer_steps=3, infer_alpha=0.1, infer_subsample=0.1):\n",
    "    \"\"\"Report error rate on test_doc sentiments, using supplied model and train_docs\"\"\"\n",
    "\n",
    "    train_targets, train_regressors = zip(*[(doc.sentiment, test_model.docvecs[doc.tags[0]]) for doc in train_set])\n",
    "    train_regressors = sm.add_constant(train_regressors)\n",
    "    predictor = logistic_predictor_from_data(train_targets, train_regressors)\n",
    "\n",
    "    test_data = test_set\n",
    "    if infer:\n",
    "        if infer_subsample < 1.0:\n",
    "            test_data = sample(test_data, int(infer_subsample * len(test_data)))\n",
    "        test_regressors = [test_model.infer_vector(doc.words, steps=infer_steps, alpha=infer_alpha) for doc in test_data]\n",
    "    else:\n",
    "        test_regressors = [test_model.docvecs[doc.tags[0]] for doc in test_docs]\n",
    "    try:\n",
    "        test_regressors = sm.add_constant(test_regressors, has_constant='raise')\n",
    "    except ValueError:\n",
    "        print(\"constant already exist\")\n",
    "        test_regressors = sm.add_constant(test_regressors, has_constant='add')\n",
    "\n",
    "    # Predict & evaluate\n",
    "    test_predictions = predictor.predict(test_regressors)\n",
    "    corrects = sum(np.rint(test_predictions) == [doc.sentiment for doc in test_data])\n",
    "    errors = len(test_predictions) - corrects\n",
    "    error_rate = float(errors) / len(test_predictions)\n",
    "    return (error_rate, errors, len(test_predictions), predictor)"
   ]
  },
  {
   "cell_type": "code",
   "execution_count": 20,
   "metadata": {},
   "outputs": [],
   "source": [
    "from collections import defaultdict\n",
    "best_error = defaultdict(lambda: 1.0)  # To selectively print only best errors achieved"
   ]
  },
  {
   "cell_type": "code",
   "execution_count": 21,
   "metadata": {},
   "outputs": [
    {
     "name": "stdout",
     "output_type": "stream",
     "text": [
      "START 2018-04-16 14:28:44.320746\n",
      "*0.198400 : 1 passes : Doc2Vec(dbow,d100,n5,mc2,s0.001,t4)_inferred 13.0s 2.9s\n",
      "*0.231600 : 1 passes : dbow+dmm_inferred 0.0s 7.4s\n",
      "*0.228800 : 1 passes : dbow+dmc_inferred 0.0s 11.8s\n",
      "Completed pass 1 at alpha 0.025000\n",
      " 0.210000 : 2 passes : Doc2Vec(dbow,d100,n5,mc2,s0.001,t4)_inferred 14.9s 3.2s\n",
      "*0.194800 : 2 passes : dbow+dmm_inferred 0.0s 8.0s\n",
      "*0.187200 : 2 passes : dbow+dmc_inferred 0.0s 11.2s\n",
      "Completed pass 2 at alpha 0.023800\n",
      "*0.144000 : 3 passes : Doc2Vec(dbow,d100,n5,mc2,s0.001,t4)_inferred 16.4s 3.1s\n",
      "*0.141200 : 3 passes : dbow+dmm_inferred 0.0s 7.9s\n",
      "*0.141600 : 3 passes : dbow+dmc_inferred 0.0s 11.1s\n",
      "Completed pass 3 at alpha 0.022600\n",
      "*0.128400 : 4 passes : Doc2Vec(dbow,d100,n5,mc2,s0.001,t4)_inferred 13.3s 3.2s\n",
      "*0.136400 : 4 passes : dbow+dmm_inferred 0.0s 6.7s\n",
      "*0.135600 : 4 passes : dbow+dmc_inferred 0.0s 11.1s\n",
      "Completed pass 4 at alpha 0.021400\n",
      " 0.135200 : 5 passes : Doc2Vec(dbow,d100,n5,mc2,s0.001,t4)_inferred 12.2s 3.0s\n",
      "*0.125600 : 5 passes : dbow+dmm_inferred 0.0s 6.5s\n",
      "*0.118000 : 5 passes : dbow+dmc_inferred 0.0s 12.3s\n",
      "Completed pass 5 at alpha 0.020200\n",
      "*0.122000 : 6 passes : Doc2Vec(dbow,d100,n5,mc2,s0.001,t4)_inferred 16.4s 3.9s\n",
      " 0.132400 : 6 passes : dbow+dmm_inferred 0.0s 6.7s\n",
      " 0.128800 : 6 passes : dbow+dmc_inferred 0.0s 11.2s\n",
      "Completed pass 6 at alpha 0.019000\n",
      " 0.123200 : 7 passes : Doc2Vec(dbow,d100,n5,mc2,s0.001,t4)_inferred 14.5s 2.9s\n",
      "*0.122400 : 7 passes : dbow+dmm_inferred 0.0s 7.1s\n",
      "*0.105200 : 7 passes : dbow+dmc_inferred 0.0s 11.7s\n",
      "Completed pass 7 at alpha 0.017800\n",
      "*0.117200 : 8 passes : Doc2Vec(dbow,d100,n5,mc2,s0.001,t4)_inferred 13.2s 3.2s\n",
      " 0.126800 : 8 passes : dbow+dmm_inferred 0.0s 7.2s\n",
      " 0.114800 : 8 passes : dbow+dmc_inferred 0.0s 11.0s\n",
      "Completed pass 8 at alpha 0.016600\n",
      " 0.127200 : 9 passes : Doc2Vec(dbow,d100,n5,mc2,s0.001,t4)_inferred 13.2s 3.2s\n",
      " 0.130800 : 9 passes : dbow+dmm_inferred 0.0s 7.7s\n",
      " 0.113200 : 9 passes : dbow+dmc_inferred 0.0s 10.4s\n",
      "Completed pass 9 at alpha 0.015400\n",
      "*0.111600 : 10 passes : Doc2Vec(dbow,d100,n5,mc2,s0.001,t4)_inferred 19.0s 5.2s\n",
      "*0.113200 : 10 passes : dbow+dmm_inferred 0.0s 11.0s\n",
      " 0.112400 : 10 passes : dbow+dmc_inferred 0.0s 12.9s\n",
      "Completed pass 10 at alpha 0.014200\n",
      " 0.114800 : 11 passes : Doc2Vec(dbow,d100,n5,mc2,s0.001,t4)_inferred 12.4s 3.0s\n",
      " 0.118800 : 11 passes : dbow+dmm_inferred 0.0s 6.6s\n",
      " 0.126000 : 11 passes : dbow+dmc_inferred 0.0s 10.2s\n",
      "Completed pass 11 at alpha 0.013000\n",
      " 0.128000 : 12 passes : Doc2Vec(dbow,d100,n5,mc2,s0.001,t4)_inferred 12.9s 3.1s\n",
      "*0.108800 : 12 passes : dbow+dmm_inferred 0.0s 6.8s\n",
      " 0.117200 : 12 passes : dbow+dmc_inferred 0.0s 10.3s\n",
      "Completed pass 12 at alpha 0.011800\n",
      " 0.114000 : 13 passes : Doc2Vec(dbow,d100,n5,mc2,s0.001,t4)_inferred 12.5s 3.7s\n",
      " 0.120400 : 13 passes : dbow+dmm_inferred 0.0s 8.3s\n",
      " 0.115200 : 13 passes : dbow+dmc_inferred 0.0s 10.6s\n",
      "Completed pass 13 at alpha 0.010600\n",
      "*0.105600 : 14 passes : Doc2Vec(dbow,d100,n5,mc2,s0.001,t4)_inferred 14.3s 2.9s\n",
      " 0.113200 : 14 passes : dbow+dmm_inferred 0.0s 6.8s\n",
      " 0.128000 : 14 passes : dbow+dmc_inferred 0.0s 11.6s\n",
      "Completed pass 14 at alpha 0.009400\n",
      " 0.121200 : 15 passes : Doc2Vec(dbow,d100,n5,mc2,s0.001,t4)_inferred 14.8s 3.0s\n",
      " 0.123200 : 15 passes : dbow+dmm_inferred 0.0s 6.7s\n",
      " 0.109600 : 15 passes : dbow+dmc_inferred 0.0s 13.1s\n",
      "Completed pass 15 at alpha 0.008200\n",
      " 0.128000 : 16 passes : Doc2Vec(dbow,d100,n5,mc2,s0.001,t4)_inferred 12.3s 3.0s\n",
      " 0.111600 : 16 passes : dbow+dmm_inferred 0.0s 7.3s\n",
      " 0.113600 : 16 passes : dbow+dmc_inferred 0.0s 10.8s\n",
      "Completed pass 16 at alpha 0.007000\n",
      " 0.116000 : 17 passes : Doc2Vec(dbow,d100,n5,mc2,s0.001,t4)_inferred 12.6s 3.2s\n",
      " 0.114800 : 17 passes : dbow+dmm_inferred 0.0s 7.0s\n",
      " 0.123600 : 17 passes : dbow+dmc_inferred 0.0s 12.2s\n",
      "Completed pass 17 at alpha 0.005800\n",
      " 0.119600 : 18 passes : Doc2Vec(dbow,d100,n5,mc2,s0.001,t4)_inferred 13.1s 3.1s\n",
      " 0.111600 : 18 passes : dbow+dmm_inferred 0.0s 7.5s\n",
      " 0.115600 : 18 passes : dbow+dmc_inferred 0.0s 11.4s\n",
      "Completed pass 18 at alpha 0.004600\n",
      " 0.114800 : 19 passes : Doc2Vec(dbow,d100,n5,mc2,s0.001,t4)_inferred 13.6s 3.8s\n",
      "*0.108400 : 19 passes : dbow+dmm_inferred 0.0s 7.7s\n",
      " 0.118400 : 19 passes : dbow+dmc_inferred 0.0s 11.5s\n",
      "Completed pass 19 at alpha 0.003400\n",
      " 0.114400 : 20 passes : Doc2Vec(dbow,d100,n5,mc2,s0.001,t4)_inferred 13.0s 3.0s\n",
      " 0.112000 : 20 passes : dbow+dmm_inferred 0.0s 7.8s\n",
      " 0.114000 : 20 passes : dbow+dmc_inferred 0.0s 10.5s\n",
      "Completed pass 20 at alpha 0.002200\n",
      "END 2018-04-16 14:40:44.714781\n"
     ]
    }
   ],
   "source": [
    "from random import shuffle\n",
    "import datetime\n",
    "\n",
    "alpha, min_alpha, passes = (0.025, 0.001, 20)\n",
    "alpha_delta = (alpha - min_alpha) / passes\n",
    "\n",
    "print(\"START %s\" % datetime.datetime.now())\n",
    "\n",
    "for epoch in range(passes):\n",
    "    shuffle(doc_list)  # Shuffling gets best results\n",
    "    \n",
    "    for name, train_model in models_by_name.items():\n",
    "        # Train\n",
    "        duration = 'na'\n",
    "        train_model.alpha, train_model.min_alpha = alpha, alpha\n",
    "        with elapsed_timer() as elapsed:\n",
    "            train_model.train(doc_list, total_examples=len(doc_list), epochs=1)\n",
    "            duration = '%.1f' % elapsed()\n",
    "            \n",
    "        # Evaluate\n",
    "#         eval_duration = ''\n",
    "#         with elapsed_timer() as eval_elapsed:\n",
    "#             err, err_count, test_count, predictor = error_rate_for_model(train_model, train_docs, test_docs)\n",
    "#         eval_duration = '%.1f' % eval_elapsed()\n",
    "#         best_indicator = ' '\n",
    "#         if err <= best_error[name]:\n",
    "#             best_error[name] = err\n",
    "#             best_indicator = '*' \n",
    "#         print(\"%s%f : %i passes : %s %ss %ss\" % (best_indicator, err, epoch + 1, name, duration, eval_duration))\n",
    "\n",
    "        if ((epoch + 1) % 5) == 0 or epoch == 0 or True:\n",
    "            eval_duration = ''\n",
    "            with elapsed_timer() as eval_elapsed:\n",
    "                infer_err, err_count, test_count, predictor \\\n",
    "                                            = error_rate_for_model(train_model, train_docs, test_docs, infer=True)\n",
    "            eval_duration = '%.1f' % eval_elapsed()\n",
    "            best_indicator = ' '\n",
    "            if infer_err < best_error[name + '_inferred']:\n",
    "                best_error[name + '_inferred'] = infer_err\n",
    "                best_indicator = '*'\n",
    "            print(\"%s%f : %i passes : %s %ss %ss\" % (best_indicator, infer_err, epoch + 1, name + '_inferred', duration, eval_duration))\n",
    "\n",
    "    print('Completed pass %i at alpha %f' % (epoch + 1, alpha))\n",
    "    alpha -= alpha_delta\n",
    "    \n",
    "print(\"END %s\" % str(datetime.datetime.now()))"
   ]
  },
  {
   "cell_type": "code",
   "execution_count": 22,
   "metadata": {},
   "outputs": [
    {
     "name": "stdout",
     "output_type": "stream",
     "text": [
      "Err rate Model\n",
      "0.105200 dbow+dmc_inferred\n",
      "0.105600 Doc2Vec(dbow,d100,n5,mc2,s0.001,t4)_inferred\n",
      "0.108400 dbow+dmm_inferred\n"
     ]
    }
   ],
   "source": [
    "# Print best error rates achieved\n",
    "print(\"Err rate Model\")\n",
    "for rate, name in sorted((rate, name) for name, rate in best_error.items()):\n",
    "    print(\"%f %s\" % (rate, name))"
   ]
  },
  {
   "cell_type": "code",
   "execution_count": null,
   "metadata": {
    "collapsed": true
   },
   "outputs": [],
   "source": []
  },
  {
   "cell_type": "code",
   "execution_count": null,
   "metadata": {
    "collapsed": true
   },
   "outputs": [],
   "source": []
  }
 ],
 "metadata": {
  "kernelspec": {
   "display_name": "Python 3",
   "language": "python",
   "name": "python3"
  }
 },
 "nbformat": 4,
 "nbformat_minor": 2
}
